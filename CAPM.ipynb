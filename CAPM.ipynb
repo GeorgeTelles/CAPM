{
  "cells": [
    {
      "cell_type": "markdown",
      "metadata": {
        "id": "view-in-github",
        "colab_type": "text"
      },
      "source": [
        "<a href=\"https://colab.research.google.com/github/GeorgeTelles/CAPM/blob/main/CAPM.ipynb\" target=\"_parent\"><img src=\"https://colab.research.google.com/assets/colab-badge.svg\" alt=\"Open In Colab\"/></a>"
      ]
    },
    {
      "cell_type": "markdown",
      "source": [
        "<div>\n",
        "  <img src=\"https://raw.githubusercontent.com/GeorgeTelles/georgetelles/f69531ec6b293b5148563588a764c010015d315e/logo_clara.png\" alt=\"logo clara\" width=\"300\" style=\"display: inline-block; vertical-align: top; margin-right: 10px;\">\n",
        "  <img src=\"https://raw.githubusercontent.com/GeorgeTelles/georgetelles/f69531ec6b293b5148563588a764c010015d315e/logo_dark.png\" alt=\"logo dark\" width=\"300\" style=\"display: inline-block; vertical-align: top;\">\n",
        "</div>"
      ],
      "metadata": {
        "id": "-x7O7jHvUgLm"
      }
    },
    {
      "cell_type": "markdown",
      "source": [
        "# CAPM - Capital Asset Pricing Model"
      ],
      "metadata": {
        "id": "dXocScJO9Jbt"
      }
    },
    {
      "cell_type": "markdown",
      "metadata": {
        "id": "gqcOudl7nxDa"
      },
      "source": [
        "O modelo CAPM (Capital Asset Pricing Model) é uma ferramenta que calcula o retorno esperado de um ativo com base no seu risco sistemático em relação ao mercado. Ele usa a fórmula\n",
        "𝑅\n",
        "𝑖\n",
        "=\n",
        "𝑅\n",
        "𝑓\n",
        "+\n",
        "𝛽\n",
        "𝑖\n",
        "(\n",
        "𝑅\n",
        "𝑚\n",
        "−\n",
        "𝑅\n",
        "𝑓\n",
        ")\n",
        "R\n",
        "i\n",
        "​\n",
        " =R\n",
        "f\n",
        "​\n",
        " +β\n",
        "i\n",
        "​\n",
        " (R\n",
        "m\n",
        "​\n",
        " −R\n",
        "f\n",
        "​\n",
        " ), onde\n",
        "𝑅\n",
        "𝑖\n",
        "R\n",
        "i\n",
        "​\n",
        "  é o retorno esperado do ativo,\n",
        "𝑅\n",
        "𝑓\n",
        "R\n",
        "f\n",
        "​\n",
        "  é a taxa livre de risco,\n",
        "𝛽\n",
        "𝑖\n",
        "β\n",
        "i\n",
        "​\n",
        "  é a sensibilidade do ativo em relação às flutuações do mercado, e\n",
        "𝑅\n",
        "𝑚\n",
        "R\n",
        "m\n",
        "​\n",
        "  é o retorno esperado do mercado.\n",
        "\n",
        "Steps:\n",
        "* Regressão Linear\n",
        "* Estimar CAPM\n",
        "* Plotar Gráfico\n",
        "\n",
        "## **Modelo de Precificação de Ativos**\n",
        "\n",
        "$ R = R_f + \\beta (R_m - R_f)$\n",
        "\n",
        "onde:\n",
        "* $R$ - Retorno do Ativo\n",
        "* $R_f$ - Taxa livre de risco\n",
        "* $R_m$ - Retorno do Mercado\n",
        "\n",
        "\n",
        "## Utilizando a Regressão Linear\n",
        "\n",
        "Vamos estimar o modelo:\n",
        "\n",
        "$E(R) = \\alpha + \\beta R_m$ + $\\epsilon$\n"
      ]
    },
    {
      "cell_type": "markdown",
      "source": [
        "O algoritmo fornece os seguintes outputs:\n",
        "\n",
        "- **Retorno Acumulado**: Gráficos comparativos dos retornos acumulados das ações e do índice de mercado.\n",
        "- **Gráfico de Dispersão**: Visualização da relação entre os retornos diários das ações e do mercado.\n",
        "- **Parâmetros da Regressão**:\n",
        "  - **Beta**: Medida da sensibilidade do ativo às variações do mercado.\n",
        "  - **Alpha**: Valor do intercepto na regressão, representando o retorno adicional do ativo.\n",
        "  - **\\( R^2 \\)**: Coeficiente de determinação, indicando a proporção da variação dos retornos do ativo explicada pelo modelo.\n",
        "  - **P-valor**: Testa a significância estatística dos parâmetros.\n",
        "  - **Erro Padrão**: Mede a precisão dos parâmetros estimados.\n",
        "\n",
        "Os gráficos e parâmetros ajudam a analisar o risco e o retorno esperado de um ativo em comparação com o mercado, facilitando decisões de investimento mais informadas."
      ],
      "metadata": {
        "id": "wgdA97VO_nKT"
      }
    },
    {
      "cell_type": "markdown",
      "metadata": {
        "id": "fSDuRzY386CT"
      },
      "source": [
        "# Carregar as bibliotecas"
      ]
    },
    {
      "cell_type": "code",
      "execution_count": null,
      "metadata": {
        "id": "zSlZcrBsnwS3"
      },
      "outputs": [],
      "source": [
        "import numpy as np\n",
        "import pandas as pd\n",
        "from scipy import stats\n",
        "import matplotlib.pyplot as plt\n",
        "import seaborn as sns\n",
        "import yfinance as yf\n",
        "sns.set()"
      ]
    },
    {
      "cell_type": "markdown",
      "metadata": {
        "id": "2Ajxxkyb86CU"
      },
      "source": [
        "# Carregando os dados"
      ]
    },
    {
      "cell_type": "code",
      "execution_count": null,
      "metadata": {
        "id": "lwqr8X94VldC"
      },
      "outputs": [],
      "source": [
        "bvsp = yf.download(\"^BVSP\", start=\"2018-01-01\")\n",
        "itub4 = yf.download(\"ITUB4.SA\", start=\"2018-01-01\")\n",
        "mglu3 = yf.download(\"MGLU3.SA\", start=\"2018-01-01\")\n",
        "petr4 = yf.download(\"PETR4.SA\", start=\"2018-01-01\")\n",
        "abev3 = yf.download(\"ABEV3.SA\", start=\"2018-01-01\")"
      ]
    },
    {
      "cell_type": "markdown",
      "metadata": {
        "id": "2_JKwta7Xahc"
      },
      "source": [
        "## Retorno Acumulado"
      ]
    },
    {
      "cell_type": "code",
      "execution_count": null,
      "metadata": {
        "id": "zOc59SNEWD_e"
      },
      "outputs": [],
      "source": [
        "bvsp['Retorno Acumulado'] = bvsp['Adj Close'] / bvsp['Adj Close'].iloc[0]\n",
        "petr4['Retorno Acumulado'] = petr4['Adj Close'] / petr4['Adj Close'].iloc[0]"
      ]
    },
    {
      "cell_type": "markdown",
      "source": [
        "**Retorno Acumulado PETR4 vs IBOV**"
      ],
      "metadata": {
        "id": "Dr7ayztG9p8z"
      }
    },
    {
      "cell_type": "code",
      "execution_count": null,
      "metadata": {
        "id": "T_cP9TamXIUa"
      },
      "outputs": [],
      "source": [
        "bvsp['Retorno Acumulado'].loc['2018-01-01':].plot(label='BVSP',figsize=(13,10))\n",
        "petr4['Retorno Acumulado'].loc['2018-01-01':].plot(label='PETR4')\n",
        "plt.legend()\n",
        "plt.title('Retorno Acumulado');"
      ]
    },
    {
      "cell_type": "markdown",
      "metadata": {
        "id": "OYiK4Ipdae4t"
      },
      "source": [
        "### Retorno Diário"
      ]
    },
    {
      "cell_type": "code",
      "execution_count": null,
      "metadata": {
        "id": "UHg2aDFYWyyl"
      },
      "outputs": [],
      "source": [
        "bvsp['Retorno Diário'] = np.log(bvsp['Adj Close']).diff()\n",
        "petr4['Retorno Diário'] = np.log(petr4['Adj Close']).diff()"
      ]
    },
    {
      "cell_type": "markdown",
      "metadata": {
        "id": "WMkIhWxF86CV"
      },
      "source": [
        "# Gráfico de dispersão"
      ]
    },
    {
      "cell_type": "code",
      "execution_count": null,
      "metadata": {
        "id": "Vb8K5_bH86CV"
      },
      "outputs": [],
      "source": [
        "comum_indices = bvsp.index.intersection(mglu3.index)\n",
        "\n",
        "# Filtrar os DataFrames pelos índices comuns\n",
        "bvsp_retornos = bvsp['Retorno Diário'].loc[comum_indices].dropna()\n",
        "petr4_retornos = petr4['Retorno Diário'].loc[comum_indices].dropna()\n",
        "\n",
        "\n",
        "plt.figure(figsize=(12, 8))\n",
        "plt.scatter(x=bvsp_retornos, y=petr4_retornos, alpha=0.3)\n",
        "plt.xlabel('BVSP')\n",
        "plt.ylabel('PETR')\n",
        "plt.title('Gráfico de Dispersão entre Retorno Diário de BVSP e PETR')\n",
        "plt.show()"
      ]
    },
    {
      "cell_type": "markdown",
      "metadata": {
        "id": "EEgJ0vYedWvE"
      },
      "source": [
        "### Regressão Linear CAPM\n"
      ]
    },
    {
      "cell_type": "code",
      "execution_count": null,
      "metadata": {
        "id": "bqY5qHgNbj1H"
      },
      "outputs": [],
      "source": [
        "# Vamos pedir o beta, alpha, R2, p valor e o erro padrão\n",
        "# período 2018 - 2019\n",
        "beta, alpha, R2, p_valor, erro_padrao = stats.linregress(x = bvsp_retornos,\n",
        "                                                         y = petr4_retornos)"
      ]
    },
    {
      "cell_type": "code",
      "execution_count": null,
      "metadata": {
        "id": "Lq7V7bMGeQFw"
      },
      "outputs": [],
      "source": [
        "# Ver os resultados\n",
        "print('beta:', beta)\n",
        "print('alhpa:', alpha)\n",
        "print('R2:', R2)\n",
        "print('p valor:', p_valor)\n",
        "print('erro padrão:', erro_padrao)"
      ]
    },
    {
      "cell_type": "code",
      "execution_count": null,
      "metadata": {
        "id": "nW0A0mHMeR9q"
      },
      "outputs": [],
      "source": [
        "plt.figure(figsize = (12,8))\n",
        "\n",
        "# plotando os pontos\n",
        "plt.scatter(bvsp_retornos,\n",
        "            petr4_retornos)\n",
        "\n",
        "# plotando a reta\n",
        "plt.plot(bvsp_retornos,\n",
        "         alpha + beta * bvsp_retornos);"
      ]
    }
  ],
  "metadata": {
    "colab": {
      "provenance": [],
      "include_colab_link": true
    },
    "kernelspec": {
      "display_name": "Python 3",
      "name": "python3"
    },
    "language_info": {
      "codemirror_mode": {
        "name": "ipython",
        "version": 3
      },
      "file_extension": ".py",
      "mimetype": "text/x-python",
      "name": "python",
      "nbconvert_exporter": "python",
      "pygments_lexer": "ipython3",
      "version": "3.12.4"
    }
  },
  "nbformat": 4,
  "nbformat_minor": 0
}